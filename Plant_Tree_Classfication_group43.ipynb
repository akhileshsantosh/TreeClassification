{
 "cells": [
  {
   "cell_type": "markdown",
   "metadata": {},
   "source": [
    "# Problem statement:\n",
    "\n",
    "Attached is a dataset which shows the flower classification ML problem. The task is to predict the class of the plant based on certain features given in the excel file. The xlsx has 2 components one showing the variables data and another file showing the explanation of what each of these variables mean.\n",
    "\n",
    "\n",
    "For this problem, ignore the problem metrics. Ignore the units of tree length like mm or cm. For e.g. do not think that the tree length is in mm or cm. All the measures are metric-less (unit less) and for this problem treat each column in that capacity.\n",
    "\n",
    "For the dataset, implement the Random Forest classifier using Python. \n",
    "\n",
    "For the same dataset, implement classification with the neural network using Keras in Python.\n",
    "\n",
    "The marks distribution is as follows\n",
    "\n",
    "Import the libraries and Load the dataset and Remove/replace missing values (if any)\n",
    "Split features and labels\n",
    "Split train and test data\n",
    "Implement Neural Network Classifier using Keras\n",
    "Calculate accuracy measures"
   ]
  },
  {
   "cell_type": "code",
   "execution_count": 1,
   "metadata": {},
   "outputs": [],
   "source": [
    "import numpy as np\n",
    "import pandas as pd"
   ]
  },
  {
   "cell_type": "markdown",
   "metadata": {},
   "source": [
    "## 1. Import the libraries and Load the dataset and Remove/replace missing values (if any) "
   ]
  },
  {
   "cell_type": "code",
   "execution_count": 2,
   "metadata": {},
   "outputs": [
    {
     "name": "stdout",
     "output_type": "stream",
     "text": [
      "The data set has 17898 rows and 9 columns\n"
     ]
    },
    {
     "data": {
      "text/html": [
       "<div>\n",
       "<style scoped>\n",
       "    .dataframe tbody tr th:only-of-type {\n",
       "        vertical-align: middle;\n",
       "    }\n",
       "\n",
       "    .dataframe tbody tr th {\n",
       "        vertical-align: top;\n",
       "    }\n",
       "\n",
       "    .dataframe thead th {\n",
       "        text-align: right;\n",
       "    }\n",
       "</style>\n",
       "<table border=\"1\" class=\"dataframe\">\n",
       "  <thead>\n",
       "    <tr style=\"text-align: right;\">\n",
       "      <th></th>\n",
       "      <th>LeafLength</th>\n",
       "      <th>LeafBreadth</th>\n",
       "      <th>ErrorLeafLength</th>\n",
       "      <th>ErrorLeafBreadth</th>\n",
       "      <th>LeafCurveAngle</th>\n",
       "      <th>EdgeCurvatureAngle</th>\n",
       "      <th>ErrorLeafCurvature</th>\n",
       "      <th>TreeLength</th>\n",
       "      <th>TreeType</th>\n",
       "    </tr>\n",
       "  </thead>\n",
       "  <tbody>\n",
       "    <tr>\n",
       "      <th>count</th>\n",
       "      <td>17898.000000</td>\n",
       "      <td>17898.000000</td>\n",
       "      <td>17898.000000</td>\n",
       "      <td>17898.000000</td>\n",
       "      <td>17898.000000</td>\n",
       "      <td>17898.000000</td>\n",
       "      <td>17898.000000</td>\n",
       "      <td>17898.000000</td>\n",
       "      <td>17898.000000</td>\n",
       "    </tr>\n",
       "    <tr>\n",
       "      <th>mean</th>\n",
       "      <td>111.079968</td>\n",
       "      <td>46.549532</td>\n",
       "      <td>0.477857</td>\n",
       "      <td>1.770279</td>\n",
       "      <td>12.614400</td>\n",
       "      <td>26.326515</td>\n",
       "      <td>8.303556</td>\n",
       "      <td>104.857709</td>\n",
       "      <td>0.091574</td>\n",
       "    </tr>\n",
       "    <tr>\n",
       "      <th>std</th>\n",
       "      <td>25.652935</td>\n",
       "      <td>6.843189</td>\n",
       "      <td>1.064040</td>\n",
       "      <td>6.167913</td>\n",
       "      <td>29.472897</td>\n",
       "      <td>19.470572</td>\n",
       "      <td>4.506092</td>\n",
       "      <td>106.514540</td>\n",
       "      <td>0.288432</td>\n",
       "    </tr>\n",
       "    <tr>\n",
       "      <th>min</th>\n",
       "      <td>5.812500</td>\n",
       "      <td>24.772042</td>\n",
       "      <td>-1.876011</td>\n",
       "      <td>-1.791886</td>\n",
       "      <td>0.213211</td>\n",
       "      <td>7.370432</td>\n",
       "      <td>-3.139270</td>\n",
       "      <td>-1.976976</td>\n",
       "      <td>0.000000</td>\n",
       "    </tr>\n",
       "    <tr>\n",
       "      <th>25%</th>\n",
       "      <td>100.929688</td>\n",
       "      <td>42.376018</td>\n",
       "      <td>0.027098</td>\n",
       "      <td>-0.188572</td>\n",
       "      <td>1.923077</td>\n",
       "      <td>14.437332</td>\n",
       "      <td>5.781506</td>\n",
       "      <td>34.960504</td>\n",
       "      <td>0.000000</td>\n",
       "    </tr>\n",
       "    <tr>\n",
       "      <th>50%</th>\n",
       "      <td>115.078125</td>\n",
       "      <td>46.947479</td>\n",
       "      <td>0.223240</td>\n",
       "      <td>0.198710</td>\n",
       "      <td>2.801839</td>\n",
       "      <td>18.461316</td>\n",
       "      <td>8.433515</td>\n",
       "      <td>83.064556</td>\n",
       "      <td>0.000000</td>\n",
       "    </tr>\n",
       "    <tr>\n",
       "      <th>75%</th>\n",
       "      <td>127.085938</td>\n",
       "      <td>51.023202</td>\n",
       "      <td>0.473325</td>\n",
       "      <td>0.927783</td>\n",
       "      <td>5.464256</td>\n",
       "      <td>28.428104</td>\n",
       "      <td>10.702959</td>\n",
       "      <td>139.309330</td>\n",
       "      <td>0.000000</td>\n",
       "    </tr>\n",
       "    <tr>\n",
       "      <th>max</th>\n",
       "      <td>192.617188</td>\n",
       "      <td>98.778911</td>\n",
       "      <td>8.069522</td>\n",
       "      <td>68.101622</td>\n",
       "      <td>223.392141</td>\n",
       "      <td>110.642211</td>\n",
       "      <td>34.539844</td>\n",
       "      <td>1191.000837</td>\n",
       "      <td>1.000000</td>\n",
       "    </tr>\n",
       "  </tbody>\n",
       "</table>\n",
       "</div>"
      ],
      "text/plain": [
       "         LeafLength   LeafBreadth  ErrorLeafLength  ErrorLeafBreadth  \\\n",
       "count  17898.000000  17898.000000     17898.000000      17898.000000   \n",
       "mean     111.079968     46.549532         0.477857          1.770279   \n",
       "std       25.652935      6.843189         1.064040          6.167913   \n",
       "min        5.812500     24.772042        -1.876011         -1.791886   \n",
       "25%      100.929688     42.376018         0.027098         -0.188572   \n",
       "50%      115.078125     46.947479         0.223240          0.198710   \n",
       "75%      127.085938     51.023202         0.473325          0.927783   \n",
       "max      192.617188     98.778911         8.069522         68.101622   \n",
       "\n",
       "       LeafCurveAngle  EdgeCurvatureAngle  ErrorLeafCurvature    TreeLength  \\\n",
       "count    17898.000000        17898.000000        17898.000000  17898.000000   \n",
       "mean        12.614400           26.326515            8.303556    104.857709   \n",
       "std         29.472897           19.470572            4.506092    106.514540   \n",
       "min          0.213211            7.370432           -3.139270     -1.976976   \n",
       "25%          1.923077           14.437332            5.781506     34.960504   \n",
       "50%          2.801839           18.461316            8.433515     83.064556   \n",
       "75%          5.464256           28.428104           10.702959    139.309330   \n",
       "max        223.392141          110.642211           34.539844   1191.000837   \n",
       "\n",
       "           TreeType  \n",
       "count  17898.000000  \n",
       "mean       0.091574  \n",
       "std        0.288432  \n",
       "min        0.000000  \n",
       "25%        0.000000  \n",
       "50%        0.000000  \n",
       "75%        0.000000  \n",
       "max        1.000000  "
      ]
     },
     "metadata": {},
     "output_type": "display_data"
    },
    {
     "data": {
      "text/html": [
       "<div>\n",
       "<style scoped>\n",
       "    .dataframe tbody tr th:only-of-type {\n",
       "        vertical-align: middle;\n",
       "    }\n",
       "\n",
       "    .dataframe tbody tr th {\n",
       "        vertical-align: top;\n",
       "    }\n",
       "\n",
       "    .dataframe thead th {\n",
       "        text-align: right;\n",
       "    }\n",
       "</style>\n",
       "<table border=\"1\" class=\"dataframe\">\n",
       "  <thead>\n",
       "    <tr style=\"text-align: right;\">\n",
       "      <th></th>\n",
       "      <th>LeafLength</th>\n",
       "      <th>LeafBreadth</th>\n",
       "      <th>ErrorLeafLength</th>\n",
       "      <th>ErrorLeafBreadth</th>\n",
       "      <th>LeafCurveAngle</th>\n",
       "      <th>EdgeCurvatureAngle</th>\n",
       "      <th>ErrorLeafCurvature</th>\n",
       "      <th>TreeLength</th>\n",
       "      <th>TreeType</th>\n",
       "    </tr>\n",
       "  </thead>\n",
       "  <tbody>\n",
       "    <tr>\n",
       "      <th>0</th>\n",
       "      <td>140.562500</td>\n",
       "      <td>55.683782</td>\n",
       "      <td>-0.234571</td>\n",
       "      <td>-0.699648</td>\n",
       "      <td>3.199833</td>\n",
       "      <td>19.110426</td>\n",
       "      <td>7.975532</td>\n",
       "      <td>74.242225</td>\n",
       "      <td>0</td>\n",
       "    </tr>\n",
       "    <tr>\n",
       "      <th>1</th>\n",
       "      <td>102.507812</td>\n",
       "      <td>58.882430</td>\n",
       "      <td>0.465318</td>\n",
       "      <td>-0.515088</td>\n",
       "      <td>1.677258</td>\n",
       "      <td>14.860146</td>\n",
       "      <td>10.576487</td>\n",
       "      <td>127.393580</td>\n",
       "      <td>0</td>\n",
       "    </tr>\n",
       "    <tr>\n",
       "      <th>2</th>\n",
       "      <td>103.015625</td>\n",
       "      <td>39.341649</td>\n",
       "      <td>0.323328</td>\n",
       "      <td>1.051164</td>\n",
       "      <td>3.121237</td>\n",
       "      <td>21.744669</td>\n",
       "      <td>7.735822</td>\n",
       "      <td>63.171909</td>\n",
       "      <td>0</td>\n",
       "    </tr>\n",
       "    <tr>\n",
       "      <th>3</th>\n",
       "      <td>136.750000</td>\n",
       "      <td>57.178449</td>\n",
       "      <td>-0.068415</td>\n",
       "      <td>-0.636238</td>\n",
       "      <td>3.642977</td>\n",
       "      <td>20.959280</td>\n",
       "      <td>6.896499</td>\n",
       "      <td>53.593661</td>\n",
       "      <td>0</td>\n",
       "    </tr>\n",
       "    <tr>\n",
       "      <th>4</th>\n",
       "      <td>88.726562</td>\n",
       "      <td>40.672225</td>\n",
       "      <td>0.600866</td>\n",
       "      <td>1.123492</td>\n",
       "      <td>1.178930</td>\n",
       "      <td>11.468720</td>\n",
       "      <td>14.269573</td>\n",
       "      <td>252.567306</td>\n",
       "      <td>0</td>\n",
       "    </tr>\n",
       "  </tbody>\n",
       "</table>\n",
       "</div>"
      ],
      "text/plain": [
       "   LeafLength  LeafBreadth  ErrorLeafLength  ErrorLeafBreadth  LeafCurveAngle  \\\n",
       "0  140.562500    55.683782        -0.234571         -0.699648        3.199833   \n",
       "1  102.507812    58.882430         0.465318         -0.515088        1.677258   \n",
       "2  103.015625    39.341649         0.323328          1.051164        3.121237   \n",
       "3  136.750000    57.178449        -0.068415         -0.636238        3.642977   \n",
       "4   88.726562    40.672225         0.600866          1.123492        1.178930   \n",
       "\n",
       "   EdgeCurvatureAngle  ErrorLeafCurvature  TreeLength  TreeType  \n",
       "0           19.110426            7.975532   74.242225         0  \n",
       "1           14.860146           10.576487  127.393580         0  \n",
       "2           21.744669            7.735822   63.171909         0  \n",
       "3           20.959280            6.896499   53.593661         0  \n",
       "4           11.468720           14.269573  252.567306         0  "
      ]
     },
     "metadata": {},
     "output_type": "display_data"
    }
   ],
   "source": [
    "#Load xls file\n",
    "plant_tree_dataset = pd.read_excel(\"./Plant_Tree_data.xlsx\") \n",
    "print(\"The data set has {} rows and {} columns\".format(plant_tree_dataset.shape[0],plant_tree_dataset.shape[1]))\n",
    "display(plant_tree_dataset.describe())\n",
    "display(plant_tree_dataset.head())"
   ]
  },
  {
   "cell_type": "code",
   "execution_count": 3,
   "metadata": {},
   "outputs": [
    {
     "data": {
      "text/plain": [
       "float64    8\n",
       "int64      1\n",
       "dtype: int64"
      ]
     },
     "metadata": {},
     "output_type": "display_data"
    }
   ],
   "source": [
    "# Finding Missing values\n",
    "display(plant_tree_dataset.dtypes.value_counts())"
   ]
  },
  {
   "cell_type": "code",
   "execution_count": 4,
   "metadata": {},
   "outputs": [
    {
     "data": {
      "text/plain": [
       "LeafLength            0\n",
       "LeafBreadth           0\n",
       "ErrorLeafLength       0\n",
       "ErrorLeafBreadth      0\n",
       "LeafCurveAngle        0\n",
       "EdgeCurvatureAngle    0\n",
       "ErrorLeafCurvature    0\n",
       "TreeLength            0\n",
       "TreeType              0\n",
       "dtype: int64"
      ]
     },
     "execution_count": 4,
     "metadata": {},
     "output_type": "execute_result"
    }
   ],
   "source": [
    "# Out of 9 columns 8 are of type float and 1 is of type Integer and there are no Object types.\n",
    "#Now find if there are any missing values for each columns.\n",
    "plant_tree_dataset.isnull().sum()"
   ]
  },
  {
   "cell_type": "markdown",
   "metadata": {},
   "source": [
    "##### As we can see there are no missing values, so we don't need to remove or replace anything."
   ]
  },
  {
   "cell_type": "markdown",
   "metadata": {},
   "source": [
    "## 2. Split features and labels"
   ]
  },
  {
   "cell_type": "code",
   "execution_count": 5,
   "metadata": {},
   "outputs": [
    {
     "name": "stdout",
     "output_type": "stream",
     "text": [
      "Independet Variables:\n",
      "[[140.5625      55.68378214  -0.23457141 ...  19.11042633   7.97553179\n",
      "   74.24222492]\n",
      " [102.5078125   58.88243001   0.46531815 ...  14.86014572  10.57648674\n",
      "  127.3935796 ]\n",
      " [103.015625    39.34164944   0.32332837 ...  21.74466875   7.73582202\n",
      "   63.17190911]\n",
      " ...\n",
      " [119.3359375   59.93593941   0.1593631  ...  58.8720002    2.49951714\n",
      "    4.59517265]\n",
      " [114.5078125   53.90239966   0.20116138 ...  13.38173065  10.00796731\n",
      "  134.2389095 ]\n",
      " [ 57.0625      85.79734025   1.40639105 ...  64.71256228  -1.59752658\n",
      "    1.42947536]]\n",
      "\n",
      "Dependent Variables:\n",
      "[0 0 0 ... 0 0 0]\n"
     ]
    }
   ],
   "source": [
    "# Extract Feature (Independent variables)\n",
    "X = plant_tree_dataset.iloc[:,:-1].values\n",
    "print('Independet Variables:')\n",
    "print(X)\n",
    "print()\n",
    "\n",
    "#Extract Label (dependent variable)\n",
    "Y = plant_tree_dataset.iloc[:, -1].values\n",
    "print('Dependent Variables:')\n",
    "print(Y)\n",
    "\n",
    "#from sklearn.preprocessing import StandardScaler\n",
    "# scaling the dataset\n",
    "#scaller = StandardScaler()\n",
    "#X = scaller.fit_transform(banknote_dataset)"
   ]
  },
  {
   "cell_type": "markdown",
   "metadata": {},
   "source": [
    "## 3. Split train and test data"
   ]
  },
  {
   "cell_type": "code",
   "execution_count": 6,
   "metadata": {},
   "outputs": [],
   "source": [
    "from sklearn.model_selection import train_test_split"
   ]
  },
  {
   "cell_type": "code",
   "execution_count": 7,
   "metadata": {},
   "outputs": [
    {
     "name": "stdout",
     "output_type": "stream",
     "text": [
      "X_train shape: (14318, 8)\n",
      "X_test shape (3580, 8)\n",
      "y_train shape: (14318,)\n",
      "y_test shape: {} (3580,)\n"
     ]
    }
   ],
   "source": [
    "#Split the data into trainand test dataset: 80- 20 Split\n",
    "X_train, X_test, y_train, y_test = train_test_split(X, Y, test_size = 0.2, random_state = 101)\n",
    "print(\"X_train shape:\", X_train.shape)\n",
    "print(\"X_test shape\", X_test.shape)\n",
    "print(\"y_train shape:\", y_train.shape)\n",
    "print(\"y_test shape: {}\", y_test.shape)"
   ]
  },
  {
   "cell_type": "markdown",
   "metadata": {},
   "source": [
    "## 4. Implement Random Forest Classifier"
   ]
  },
  {
   "cell_type": "code",
   "execution_count": 8,
   "metadata": {},
   "outputs": [],
   "source": [
    "from sklearn.ensemble import RandomForestClassifier\n",
    "classifier=RandomForestClassifier()\n",
    "classifier.fit(X_train,y_train)\n",
    "## Prediction\n",
    "y_pred=classifier.predict(X_test)"
   ]
  },
  {
   "cell_type": "markdown",
   "metadata": {},
   "source": [
    "## 5. Calculate accuracy measures"
   ]
  },
  {
   "cell_type": "code",
   "execution_count": 9,
   "metadata": {},
   "outputs": [
    {
     "name": "stdout",
     "output_type": "stream",
     "text": [
      "Accuracy: 98.268156%\n"
     ]
    }
   ],
   "source": [
    "from sklearn.metrics import accuracy_score\n",
    "## compute and print Accuracy\n",
    "score=accuracy_score(y_test,y_pred)\n",
    "print('Accuracy: {:2f}%'.format(score * 100))"
   ]
  },
  {
   "cell_type": "code",
   "execution_count": 10,
   "metadata": {},
   "outputs": [
    {
     "data": {
      "image/png": "[encoded data removed]",
      "text/plain": [
       "<Figure size 432x288 with 2 Axes>"
      ]
     },
     "metadata": {
      "needs_background": "light"
     },
     "output_type": "display_data"
    }
   ],
   "source": [
    "#Confusion Matrix\n",
    "#Calculate confusion matrix\n",
    "from sklearn.metrics import confusion_matrix\n",
    "import matplotlib.pyplot as plt\n",
    "import seaborn as sb\n",
    "\n",
    "random_forest_confusion_matrix  = confusion_matrix(y_test, y_pred)\n",
    "\n",
    "#Plot the confusion matrix.\n",
    "class_names = ['Fake','Authentic']\n",
    "fig, ax = plt.subplots()\n",
    "tick_marks = np.arange(len(class_names))\n",
    "plt.xticks(tick_marks, class_names)\n",
    "plt.yticks(tick_marks, class_names)\n",
    "\n",
    "sb.heatmap(pd.DataFrame(random_forest_confusion_matrix), annot = True, \n",
    "           cmap='YlGnBu', fmt='g')\n",
    "ax.xaxis.set_label_position('top')\n",
    "plt.tight_layout()\n",
    "plt.title('Confusion Matrix\\n')\n",
    "plt.ylabel('Actual label')\n",
    "plt.xlabel('Predicted label')\n",
    "plt.show()"
   ]
  },
  {
   "cell_type": "markdown",
   "metadata": {},
   "source": [
    "#### Using Random Forest algorithm we have achieved the accuracy of 98.2%\n",
    "\n",
    "As clear in confusion matrix Top Left and Bottom Right are correct predictions for the labels.\n",
    "\n",
    "Now lets see if we can get better result applying Neural Net?"
   ]
  },
  {
   "cell_type": "markdown",
   "metadata": {},
   "source": [
    "# For the same dataset, implement classification with the Neural Network using Keras in Python"
   ]
  },
  {
   "cell_type": "markdown",
   "metadata": {},
   "source": [
    "#### First 3 steps of Loading data, splitting features and labels , splitting in to training and test data set wil be same.So we are reusing these steps."
   ]
  },
  {
   "cell_type": "markdown",
   "metadata": {},
   "source": [
    "## 4. Implement Neural Net Classifier using Keras"
   ]
  },
  {
   "cell_type": "code",
   "execution_count": 11,
   "metadata": {},
   "outputs": [],
   "source": [
    "import keras\n",
    "from keras.models import Model, Sequential\n",
    "from keras.layers import Dense, Activation\n",
    "import keras.backend as K\n",
    "from keras.optimizers import Adam\n",
    "from keras import optimizers"
   ]
  },
  {
   "cell_type": "code",
   "execution_count": 12,
   "metadata": {},
   "outputs": [],
   "source": [
    "#Clear the session\n",
    "K.clear_session()"
   ]
  },
  {
   "cell_type": "code",
   "execution_count": 13,
   "metadata": {},
   "outputs": [],
   "source": [
    "#Construct the model\n",
    "nin = X_train.shape[1]\n",
    "nout = np.max(y_train) + 1\n",
    "nh = 100\n",
    "\n",
    "model = Sequential()\n",
    "model.add(Dense(nh, input_shape=(nin, ), activation='relu', name= 'fc1'))\n",
    "model.add(Dense(nh, activation='relu', name='fc2'))\n",
    "model.add(Dense(nout, activation = 'softmax', name = 'output'))"
   ]
  },
  {
   "cell_type": "code",
   "execution_count": 14,
   "metadata": {
    "scrolled": true
   },
   "outputs": [
    {
     "name": "stdout",
     "output_type": "stream",
     "text": [
      "Model: \"sequential\"\n",
      "_________________________________________________________________\n",
      "Layer (type)                 Output Shape              Param #   \n",
      "=================================================================\n",
      "fc1 (Dense)                  (None, 100)               900       \n",
      "_________________________________________________________________\n",
      "fc2 (Dense)                  (None, 100)               10100     \n",
      "_________________________________________________________________\n",
      "output (Dense)               (None, 2)                 202       \n",
      "=================================================================\n",
      "Total params: 11,202\n",
      "Trainable params: 11,202\n",
      "Non-trainable params: 0\n",
      "_________________________________________________________________\n"
     ]
    }
   ],
   "source": [
    "#Print the model summary\n",
    "model.summary()"
   ]
  },
  {
   "cell_type": "code",
   "execution_count": 15,
   "metadata": {},
   "outputs": [],
   "source": [
    "#Learning rate as 0.001\n",
    "opt = optimizers.Adam(lr = 0.001)\n",
    "model.compile(optimizer=opt, loss = 'sparse_categorical_crossentropy', metrics=['accuracy'])\n",
    "\n"
   ]
  },
  {
   "cell_type": "code",
   "execution_count": 16,
   "metadata": {},
   "outputs": [
    {
     "name": "stdout",
     "output_type": "stream",
     "text": [
      "Epoch 1/10\n",
      "144/144 [==============================] - 2s 12ms/step - loss: 0.6063 - accuracy: 0.9229 - val_loss: 0.0890 - val_accuracy: 0.9754\n",
      "Epoch 2/10\n",
      "144/144 [==============================] - 1s 4ms/step - loss: 0.1219 - accuracy: 0.9687 - val_loss: 0.0801 - val_accuracy: 0.9791\n",
      "Epoch 3/10\n",
      "144/144 [==============================] - 1s 4ms/step - loss: 0.1134 - accuracy: 0.9724 - val_loss: 0.0974 - val_accuracy: 0.9777\n",
      "Epoch 4/10\n",
      "144/144 [==============================] - 0s 3ms/step - loss: 0.1068 - accuracy: 0.9738 - val_loss: 0.0876 - val_accuracy: 0.9751\n",
      "Epoch 5/10\n",
      "144/144 [==============================] - 0s 3ms/step - loss: 0.1112 - accuracy: 0.9718 - val_loss: 0.0888 - val_accuracy: 0.9740\n",
      "Epoch 6/10\n",
      "144/144 [==============================] - 0s 3ms/step - loss: 0.1001 - accuracy: 0.9729 - val_loss: 0.0825 - val_accuracy: 0.9768\n",
      "Epoch 7/10\n",
      "144/144 [==============================] - 1s 4ms/step - loss: 0.1018 - accuracy: 0.9736 - val_loss: 0.0954 - val_accuracy: 0.9751\n",
      "Epoch 8/10\n",
      "144/144 [==============================] - 0s 3ms/step - loss: 0.1010 - accuracy: 0.9735 - val_loss: 0.0801 - val_accuracy: 0.9799\n",
      "Epoch 9/10\n",
      "144/144 [==============================] - 0s 3ms/step - loss: 0.1030 - accuracy: 0.9719 - val_loss: 0.0726 - val_accuracy: 0.9779\n",
      "Epoch 10/10\n",
      "144/144 [==============================] - 0s 3ms/step - loss: 0.1111 - accuracy: 0.9698 - val_loss: 0.0904 - val_accuracy: 0.9737\n",
      "112/112 [==============================] - 0s 1ms/step - loss: 0.0904 - accuracy: 0.9737\n"
     ]
    }
   ],
   "source": [
    "batch_size = 100\n",
    "model.fit(X_train, y_train, epochs = 10, batch_size=batch_size, validation_data=(X_test, y_test))\n",
    "results = model.evaluate(X_test, y_test)"
   ]
  },
  {
   "cell_type": "markdown",
   "metadata": {},
   "source": [
    "## 5. Calculate accuracy measures"
   ]
  },
  {
   "cell_type": "code",
   "execution_count": 17,
   "metadata": {},
   "outputs": [
    {
     "name": "stdout",
     "output_type": "stream",
     "text": [
      "Final test set loss: 9.044837%\n",
      "Final test set accuracy: 97.374302%\n"
     ]
    }
   ],
   "source": [
    "print('Final test set loss: {:2f}%'.format(results[0] * 100))\n",
    "print('Final test set accuracy: {:2f}%'.format(results[1] * 100))"
   ]
  },
  {
   "cell_type": "markdown",
   "metadata": {},
   "source": [
    "#### Results:\n",
    "The accuracy of Neural net classifier is fractionally lower than the accuracy with Random Forest. (97.3% vs 98.2%)\n",
    "\n",
    "Next, we are going to try with a higher learning rate of 0.01 to see if we can improve the accuracy of the model."
   ]
  },
  {
   "cell_type": "code",
   "execution_count": 18,
   "metadata": {},
   "outputs": [],
   "source": [
    "#Clear the session\n",
    "K.clear_session()\n",
    "\n",
    "#Construct the model\n",
    "nin = X_train.shape[1]\n",
    "nout = np.max(y_train) + 1\n",
    "nh = 100\n",
    "\n",
    "model = Sequential()\n",
    "model.add(Dense(nh, input_shape=(nin, ), activation='relu', name= 'fc1'))\n",
    "model.add(Dense(nh, activation='relu', name='fc2'))\n",
    "model.add(Dense(nout, activation = 'softmax', name = 'output'))"
   ]
  },
  {
   "cell_type": "code",
   "execution_count": 19,
   "metadata": {
    "scrolled": true
   },
   "outputs": [
    {
     "name": "stdout",
     "output_type": "stream",
     "text": [
      "Epoch 1/10\n",
      "144/144 [==============================] - 1s 5ms/step - loss: 2.8472 - accuracy: 0.9173 - val_loss: 0.0749 - val_accuracy: 0.9793\n",
      "Epoch 2/10\n",
      "144/144 [==============================] - 0s 3ms/step - loss: 0.0929 - accuracy: 0.9737 - val_loss: 0.0798 - val_accuracy: 0.9793\n",
      "Epoch 3/10\n",
      "144/144 [==============================] - 0s 3ms/step - loss: 0.0943 - accuracy: 0.9722 - val_loss: 0.0769 - val_accuracy: 0.9788\n",
      "Epoch 4/10\n",
      "144/144 [==============================] - 1s 4ms/step - loss: 0.0925 - accuracy: 0.9727 - val_loss: 0.0735 - val_accuracy: 0.9799\n",
      "Epoch 5/10\n",
      "144/144 [==============================] - 0s 3ms/step - loss: 0.0937 - accuracy: 0.9713 - val_loss: 0.0905 - val_accuracy: 0.9743\n",
      "Epoch 6/10\n",
      "144/144 [==============================] - 0s 3ms/step - loss: 0.0890 - accuracy: 0.9744 - val_loss: 0.0757 - val_accuracy: 0.9782\n",
      "Epoch 7/10\n",
      "144/144 [==============================] - 0s 3ms/step - loss: 0.0935 - accuracy: 0.9725 - val_loss: 0.0716 - val_accuracy: 0.9799\n",
      "Epoch 8/10\n",
      "144/144 [==============================] - 0s 3ms/step - loss: 0.0909 - accuracy: 0.9741 - val_loss: 0.0839 - val_accuracy: 0.9774\n",
      "Epoch 9/10\n",
      "144/144 [==============================] - 0s 3ms/step - loss: 0.0886 - accuracy: 0.9746 - val_loss: 0.0751 - val_accuracy: 0.9788\n",
      "Epoch 10/10\n",
      "144/144 [==============================] - 0s 3ms/step - loss: 0.0847 - accuracy: 0.9762 - val_loss: 0.0759 - val_accuracy: 0.9788\n",
      "112/112 [==============================] - 0s 1ms/step - loss: 0.0759 - accuracy: 0.9788\n"
     ]
    }
   ],
   "source": [
    "#Learning rate as 0.01\n",
    "opt = optimizers.Adam(lr = 0.01)\n",
    "model.compile(optimizer=opt, loss = 'sparse_categorical_crossentropy', metrics=['accuracy'])\n",
    "\n",
    "batch_size = 100\n",
    "model.fit(X_train, y_train, epochs = 10, batch_size=batch_size, validation_data=(X_test, y_test))\n",
    "results = model.evaluate(X_test, y_test)"
   ]
  },
  {
   "cell_type": "code",
   "execution_count": 20,
   "metadata": {},
   "outputs": [
    {
     "name": "stdout",
     "output_type": "stream",
     "text": [
      "Final test set loss: 7.585812%\n",
      "Final test set accuracy: 97.877097%\n"
     ]
    }
   ],
   "source": [
    "print('Final test set loss: {:2f}%'.format(results[0] * 100))\n",
    "print('Final test set accuracy: {:2f}%'.format(results[1] * 100))"
   ]
  },
  {
   "cell_type": "markdown",
   "metadata": {},
   "source": [
    "##### So, why did the learning rate have to increased?\n",
    "The learning rate is used to find the global minima. If the learning rate is small, the model reaches the global minima with better accuracy because it is slow. However, if it is too slow, we might end up reaching a local minima rather than the global minima. For instance, Increasing the learning rate has fractionally increased the accuracy from 97.3% to 97.8% and reduced the error rate is reduced from 9% to 7.5%.Therefore, we concluded that the learning rate of 0.01 is the optimal learning rate."
   ]
  },
  {
   "cell_type": "markdown",
   "metadata": {},
   "source": [
    "#### Conclusion:\n",
    "With the learning rate of 0.01, the Neural net classifier gives an accuracy of 97.8% which is very close to the accuracy of the Random Forest 98.2%. \n",
    "\n",
    "Furthermore, for this dataset, Random Forest is sufficient enough to provide accurate results, and a neural net is not necessary. However, it can help with understanding the dataset better."
   ]
  },
  {
   "cell_type": "code",
   "execution_count": null,
   "metadata": {},
   "outputs": [],
   "source": []
  }
 ],
 "metadata": {
  "kernelspec": {
   "display_name": "Python 3",
   "language": "python",
   "name": "python3"
  },
  "language_info": {
   "codemirror_mode": {
    "name": "ipython",
    "version": 3
   },
   "file_extension": ".py",
   "mimetype": "text/x-python",
   "name": "python",
   "nbconvert_exporter": "python",
   "pygments_lexer": "ipython3",
   "version": "3.7.0"
  }
 },
 "nbformat": 4,
 "nbformat_minor": 4
}
